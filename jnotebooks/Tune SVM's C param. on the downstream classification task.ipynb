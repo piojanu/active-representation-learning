{
 "cells": [
  {
   "cell_type": "code",
   "execution_count": 2,
   "id": "21dbf75b",
   "metadata": {},
   "outputs": [],
   "source": [
    "import os\n",
    "import os.path as osp\n",
    "\n",
    "import numpy as np\n",
    "import torch as th\n",
    "from sklearn.model_selection import GridSearchCV\n",
    "from sklearn.pipeline import make_pipeline\n",
    "from sklearn.preprocessing import StandardScaler\n",
    "from sklearn.svm import LinearSVC"
   ]
  },
  {
   "cell_type": "code",
   "execution_count": 3,
   "id": "1b0df12e",
   "metadata": {},
   "outputs": [],
   "source": [
    "DATA_PATH = \"../out/lookatobjs_dataset_48x48.npz\"\n",
    "EXP_DIR = \"../out/48x48_resnet_4_small_with_maxpool\""
   ]
  },
  {
   "cell_type": "code",
   "execution_count": 4,
   "id": "265571cd",
   "metadata": {},
   "outputs": [],
   "source": [
    "with np.load(DATA_PATH) as dataset:\n",
    "    train_frames = th.from_numpy(dataset[\"train_frames\"].transpose(0, 3, 1, 2)).float() / 255.0\n",
    "    train_labels = dataset[\"train_labels\"]"
   ]
  },
  {
   "cell_type": "code",
   "execution_count": 6,
   "id": "6ff36b60",
   "metadata": {
    "scrolled": true
   },
   "outputs": [
    {
     "name": "stderr",
     "output_type": "stream",
     "text": [
      "/Users/piotr/miniconda3/envs/arl@vgg/lib/python3.8/site-packages/sklearn/svm/_base.py:1206: ConvergenceWarning: Liblinear failed to converge, increase the number of iterations.\n",
      "  warnings.warn(\n",
      "/Users/piotr/miniconda3/envs/arl@vgg/lib/python3.8/site-packages/sklearn/svm/_base.py:1206: ConvergenceWarning: Liblinear failed to converge, increase the number of iterations.\n",
      "  warnings.warn(\n",
      "/Users/piotr/miniconda3/envs/arl@vgg/lib/python3.8/site-packages/sklearn/svm/_base.py:1206: ConvergenceWarning: Liblinear failed to converge, increase the number of iterations.\n",
      "  warnings.warn(\n",
      "/Users/piotr/miniconda3/envs/arl@vgg/lib/python3.8/site-packages/sklearn/svm/_base.py:1206: ConvergenceWarning: Liblinear failed to converge, increase the number of iterations.\n",
      "  warnings.warn(\n",
      "/Users/piotr/miniconda3/envs/arl@vgg/lib/python3.8/site-packages/sklearn/svm/_base.py:1206: ConvergenceWarning: Liblinear failed to converge, increase the number of iterations.\n",
      "  warnings.warn(\n",
      "/Users/piotr/miniconda3/envs/arl@vgg/lib/python3.8/site-packages/sklearn/svm/_base.py:1206: ConvergenceWarning: Liblinear failed to converge, increase the number of iterations.\n",
      "  warnings.warn(\n"
     ]
    },
    {
     "name": "stdout",
     "output_type": "stream",
     "text": [
      "Encoder: ../out/48x48_resnet_4_small_with_maxpool/T15-00-33:+experiment=20k_updates_in_2k_steps_lookatobjs/s42/checkpoints/encoder_5/checkpoint.pkl\n",
      " Best score: 0.518; Best params: {'linearsvc__C': 0.03125}\n",
      "\n"
     ]
    },
    {
     "name": "stderr",
     "output_type": "stream",
     "text": [
      "/Users/piotr/miniconda3/envs/arl@vgg/lib/python3.8/site-packages/sklearn/svm/_base.py:1206: ConvergenceWarning: Liblinear failed to converge, increase the number of iterations.\n",
      "  warnings.warn(\n",
      "/Users/piotr/miniconda3/envs/arl@vgg/lib/python3.8/site-packages/sklearn/svm/_base.py:1206: ConvergenceWarning: Liblinear failed to converge, increase the number of iterations.\n",
      "  warnings.warn(\n",
      "/Users/piotr/miniconda3/envs/arl@vgg/lib/python3.8/site-packages/sklearn/svm/_base.py:1206: ConvergenceWarning: Liblinear failed to converge, increase the number of iterations.\n",
      "  warnings.warn(\n",
      "/Users/piotr/miniconda3/envs/arl@vgg/lib/python3.8/site-packages/sklearn/svm/_base.py:1206: ConvergenceWarning: Liblinear failed to converge, increase the number of iterations.\n",
      "  warnings.warn(\n",
      "/Users/piotr/miniconda3/envs/arl@vgg/lib/python3.8/site-packages/sklearn/svm/_base.py:1206: ConvergenceWarning: Liblinear failed to converge, increase the number of iterations.\n",
      "  warnings.warn(\n"
     ]
    },
    {
     "name": "stdout",
     "output_type": "stream",
     "text": [
      "Encoder: ../out/48x48_resnet_4_small_with_maxpool/T15-00-33:+experiment=20k_updates_in_2k_steps_lookatobjs/s42/checkpoints/encoder_2/checkpoint.pkl\n",
      " Best score: 0.49799999999999994; Best params: {'linearsvc__C': 0.015625}\n",
      "\n"
     ]
    },
    {
     "name": "stderr",
     "output_type": "stream",
     "text": [
      "/Users/piotr/miniconda3/envs/arl@vgg/lib/python3.8/site-packages/sklearn/svm/_base.py:1206: ConvergenceWarning: Liblinear failed to converge, increase the number of iterations.\n",
      "  warnings.warn(\n",
      "/Users/piotr/miniconda3/envs/arl@vgg/lib/python3.8/site-packages/sklearn/svm/_base.py:1206: ConvergenceWarning: Liblinear failed to converge, increase the number of iterations.\n",
      "  warnings.warn(\n",
      "/Users/piotr/miniconda3/envs/arl@vgg/lib/python3.8/site-packages/sklearn/svm/_base.py:1206: ConvergenceWarning: Liblinear failed to converge, increase the number of iterations.\n",
      "  warnings.warn(\n",
      "/Users/piotr/miniconda3/envs/arl@vgg/lib/python3.8/site-packages/sklearn/svm/_base.py:1206: ConvergenceWarning: Liblinear failed to converge, increase the number of iterations.\n",
      "  warnings.warn(\n",
      "/Users/piotr/miniconda3/envs/arl@vgg/lib/python3.8/site-packages/sklearn/svm/_base.py:1206: ConvergenceWarning: Liblinear failed to converge, increase the number of iterations.\n",
      "  warnings.warn(\n",
      "/Users/piotr/miniconda3/envs/arl@vgg/lib/python3.8/site-packages/sklearn/svm/_base.py:1206: ConvergenceWarning: Liblinear failed to converge, increase the number of iterations.\n",
      "  warnings.warn(\n",
      "/Users/piotr/miniconda3/envs/arl@vgg/lib/python3.8/site-packages/sklearn/svm/_base.py:1206: ConvergenceWarning: Liblinear failed to converge, increase the number of iterations.\n",
      "  warnings.warn(\n",
      "/Users/piotr/miniconda3/envs/arl@vgg/lib/python3.8/site-packages/sklearn/svm/_base.py:1206: ConvergenceWarning: Liblinear failed to converge, increase the number of iterations.\n",
      "  warnings.warn(\n",
      "/Users/piotr/miniconda3/envs/arl@vgg/lib/python3.8/site-packages/sklearn/svm/_base.py:1206: ConvergenceWarning: Liblinear failed to converge, increase the number of iterations.\n",
      "  warnings.warn(\n"
     ]
    },
    {
     "name": "stdout",
     "output_type": "stream",
     "text": [
      "Encoder: ../out/48x48_resnet_4_small_with_maxpool/T15-00-33:+experiment=20k_updates_in_2k_steps_lookatobjs/s42/checkpoints/encoder_3/checkpoint.pkl\n",
      " Best score: 0.48; Best params: {'linearsvc__C': 0.03125}\n",
      "\n"
     ]
    },
    {
     "name": "stderr",
     "output_type": "stream",
     "text": [
      "/Users/piotr/miniconda3/envs/arl@vgg/lib/python3.8/site-packages/sklearn/svm/_base.py:1206: ConvergenceWarning: Liblinear failed to converge, increase the number of iterations.\n",
      "  warnings.warn(\n",
      "/Users/piotr/miniconda3/envs/arl@vgg/lib/python3.8/site-packages/sklearn/svm/_base.py:1206: ConvergenceWarning: Liblinear failed to converge, increase the number of iterations.\n",
      "  warnings.warn(\n",
      "/Users/piotr/miniconda3/envs/arl@vgg/lib/python3.8/site-packages/sklearn/svm/_base.py:1206: ConvergenceWarning: Liblinear failed to converge, increase the number of iterations.\n",
      "  warnings.warn(\n",
      "/Users/piotr/miniconda3/envs/arl@vgg/lib/python3.8/site-packages/sklearn/svm/_base.py:1206: ConvergenceWarning: Liblinear failed to converge, increase the number of iterations.\n",
      "  warnings.warn(\n",
      "/Users/piotr/miniconda3/envs/arl@vgg/lib/python3.8/site-packages/sklearn/svm/_base.py:1206: ConvergenceWarning: Liblinear failed to converge, increase the number of iterations.\n",
      "  warnings.warn(\n",
      "/Users/piotr/miniconda3/envs/arl@vgg/lib/python3.8/site-packages/sklearn/svm/_base.py:1206: ConvergenceWarning: Liblinear failed to converge, increase the number of iterations.\n",
      "  warnings.warn(\n",
      "/Users/piotr/miniconda3/envs/arl@vgg/lib/python3.8/site-packages/sklearn/svm/_base.py:1206: ConvergenceWarning: Liblinear failed to converge, increase the number of iterations.\n",
      "  warnings.warn(\n",
      "/Users/piotr/miniconda3/envs/arl@vgg/lib/python3.8/site-packages/sklearn/svm/_base.py:1206: ConvergenceWarning: Liblinear failed to converge, increase the number of iterations.\n",
      "  warnings.warn(\n",
      "/Users/piotr/miniconda3/envs/arl@vgg/lib/python3.8/site-packages/sklearn/svm/_base.py:1206: ConvergenceWarning: Liblinear failed to converge, increase the number of iterations.\n",
      "  warnings.warn(\n",
      "/Users/piotr/miniconda3/envs/arl@vgg/lib/python3.8/site-packages/sklearn/svm/_base.py:1206: ConvergenceWarning: Liblinear failed to converge, increase the number of iterations.\n",
      "  warnings.warn(\n"
     ]
    },
    {
     "name": "stdout",
     "output_type": "stream",
     "text": [
      "Encoder: ../out/48x48_resnet_4_small_with_maxpool/T15-00-33:+experiment=20k_updates_in_2k_steps_lookatobjs/s42/checkpoints/encoder_4/checkpoint.pkl\n",
      " Best score: 0.49399999999999994; Best params: {'linearsvc__C': 0.125}\n",
      "\n"
     ]
    },
    {
     "name": "stderr",
     "output_type": "stream",
     "text": [
      "/Users/piotr/miniconda3/envs/arl@vgg/lib/python3.8/site-packages/sklearn/svm/_base.py:1206: ConvergenceWarning: Liblinear failed to converge, increase the number of iterations.\n",
      "  warnings.warn(\n",
      "/Users/piotr/miniconda3/envs/arl@vgg/lib/python3.8/site-packages/sklearn/svm/_base.py:1206: ConvergenceWarning: Liblinear failed to converge, increase the number of iterations.\n",
      "  warnings.warn(\n",
      "/Users/piotr/miniconda3/envs/arl@vgg/lib/python3.8/site-packages/sklearn/svm/_base.py:1206: ConvergenceWarning: Liblinear failed to converge, increase the number of iterations.\n",
      "  warnings.warn(\n",
      "/Users/piotr/miniconda3/envs/arl@vgg/lib/python3.8/site-packages/sklearn/svm/_base.py:1206: ConvergenceWarning: Liblinear failed to converge, increase the number of iterations.\n",
      "  warnings.warn(\n",
      "/Users/piotr/miniconda3/envs/arl@vgg/lib/python3.8/site-packages/sklearn/svm/_base.py:1206: ConvergenceWarning: Liblinear failed to converge, increase the number of iterations.\n",
      "  warnings.warn(\n",
      "/Users/piotr/miniconda3/envs/arl@vgg/lib/python3.8/site-packages/sklearn/svm/_base.py:1206: ConvergenceWarning: Liblinear failed to converge, increase the number of iterations.\n",
      "  warnings.warn(\n",
      "/Users/piotr/miniconda3/envs/arl@vgg/lib/python3.8/site-packages/sklearn/svm/_base.py:1206: ConvergenceWarning: Liblinear failed to converge, increase the number of iterations.\n",
      "  warnings.warn(\n",
      "/Users/piotr/miniconda3/envs/arl@vgg/lib/python3.8/site-packages/sklearn/svm/_base.py:1206: ConvergenceWarning: Liblinear failed to converge, increase the number of iterations.\n",
      "  warnings.warn(\n",
      "/Users/piotr/miniconda3/envs/arl@vgg/lib/python3.8/site-packages/sklearn/svm/_base.py:1206: ConvergenceWarning: Liblinear failed to converge, increase the number of iterations.\n",
      "  warnings.warn(\n",
      "/Users/piotr/miniconda3/envs/arl@vgg/lib/python3.8/site-packages/sklearn/svm/_base.py:1206: ConvergenceWarning: Liblinear failed to converge, increase the number of iterations.\n",
      "  warnings.warn(\n"
     ]
    },
    {
     "name": "stdout",
     "output_type": "stream",
     "text": [
      "Encoder: ../out/48x48_resnet_4_small_with_maxpool/T15-00-33:+experiment=20k_updates_in_2k_steps_lookatobjs/s42/checkpoints/encoder_1/checkpoint.pkl\n",
      " Best score: 0.46399999999999997; Best params: {'linearsvc__C': 0.03125}\n",
      "\n"
     ]
    },
    {
     "name": "stderr",
     "output_type": "stream",
     "text": [
      "/Users/piotr/miniconda3/envs/arl@vgg/lib/python3.8/site-packages/sklearn/svm/_base.py:1206: ConvergenceWarning: Liblinear failed to converge, increase the number of iterations.\n",
      "  warnings.warn(\n",
      "/Users/piotr/miniconda3/envs/arl@vgg/lib/python3.8/site-packages/sklearn/svm/_base.py:1206: ConvergenceWarning: Liblinear failed to converge, increase the number of iterations.\n",
      "  warnings.warn(\n",
      "/Users/piotr/miniconda3/envs/arl@vgg/lib/python3.8/site-packages/sklearn/svm/_base.py:1206: ConvergenceWarning: Liblinear failed to converge, increase the number of iterations.\n",
      "  warnings.warn(\n",
      "/Users/piotr/miniconda3/envs/arl@vgg/lib/python3.8/site-packages/sklearn/svm/_base.py:1206: ConvergenceWarning: Liblinear failed to converge, increase the number of iterations.\n",
      "  warnings.warn(\n",
      "/Users/piotr/miniconda3/envs/arl@vgg/lib/python3.8/site-packages/sklearn/svm/_base.py:1206: ConvergenceWarning: Liblinear failed to converge, increase the number of iterations.\n",
      "  warnings.warn(\n",
      "/Users/piotr/miniconda3/envs/arl@vgg/lib/python3.8/site-packages/sklearn/svm/_base.py:1206: ConvergenceWarning: Liblinear failed to converge, increase the number of iterations.\n",
      "  warnings.warn(\n",
      "/Users/piotr/miniconda3/envs/arl@vgg/lib/python3.8/site-packages/sklearn/svm/_base.py:1206: ConvergenceWarning: Liblinear failed to converge, increase the number of iterations.\n",
      "  warnings.warn(\n",
      "/Users/piotr/miniconda3/envs/arl@vgg/lib/python3.8/site-packages/sklearn/svm/_base.py:1206: ConvergenceWarning: Liblinear failed to converge, increase the number of iterations.\n",
      "  warnings.warn(\n",
      "/Users/piotr/miniconda3/envs/arl@vgg/lib/python3.8/site-packages/sklearn/svm/_base.py:1206: ConvergenceWarning: Liblinear failed to converge, increase the number of iterations.\n",
      "  warnings.warn(\n"
     ]
    },
    {
     "name": "stdout",
     "output_type": "stream",
     "text": [
      "Encoder: ../out/48x48_resnet_4_small_with_maxpool/T15-00-33:+experiment=20k_updates_in_2k_steps_lookatobjs/s42/checkpoints/encoder_6/checkpoint.pkl\n",
      " Best score: 0.41900000000000004; Best params: {'linearsvc__C': 0.03125}\n",
      "\n"
     ]
    },
    {
     "name": "stderr",
     "output_type": "stream",
     "text": [
      "/Users/piotr/miniconda3/envs/arl@vgg/lib/python3.8/site-packages/sklearn/svm/_base.py:1206: ConvergenceWarning: Liblinear failed to converge, increase the number of iterations.\n",
      "  warnings.warn(\n",
      "/Users/piotr/miniconda3/envs/arl@vgg/lib/python3.8/site-packages/sklearn/svm/_base.py:1206: ConvergenceWarning: Liblinear failed to converge, increase the number of iterations.\n",
      "  warnings.warn(\n",
      "/Users/piotr/miniconda3/envs/arl@vgg/lib/python3.8/site-packages/sklearn/svm/_base.py:1206: ConvergenceWarning: Liblinear failed to converge, increase the number of iterations.\n",
      "  warnings.warn(\n",
      "/Users/piotr/miniconda3/envs/arl@vgg/lib/python3.8/site-packages/sklearn/svm/_base.py:1206: ConvergenceWarning: Liblinear failed to converge, increase the number of iterations.\n",
      "  warnings.warn(\n",
      "/Users/piotr/miniconda3/envs/arl@vgg/lib/python3.8/site-packages/sklearn/svm/_base.py:1206: ConvergenceWarning: Liblinear failed to converge, increase the number of iterations.\n",
      "  warnings.warn(\n",
      "/Users/piotr/miniconda3/envs/arl@vgg/lib/python3.8/site-packages/sklearn/svm/_base.py:1206: ConvergenceWarning: Liblinear failed to converge, increase the number of iterations.\n",
      "  warnings.warn(\n",
      "/Users/piotr/miniconda3/envs/arl@vgg/lib/python3.8/site-packages/sklearn/svm/_base.py:1206: ConvergenceWarning: Liblinear failed to converge, increase the number of iterations.\n",
      "  warnings.warn(\n",
      "/Users/piotr/miniconda3/envs/arl@vgg/lib/python3.8/site-packages/sklearn/svm/_base.py:1206: ConvergenceWarning: Liblinear failed to converge, increase the number of iterations.\n",
      "  warnings.warn(\n"
     ]
    },
    {
     "name": "stdout",
     "output_type": "stream",
     "text": [
      "Encoder: ../out/48x48_resnet_4_small_with_maxpool/T15-00-33:+experiment=20k_updates_in_2k_steps_lookatobjs/s42/checkpoints/encoder_7/checkpoint.pkl\n",
      " Best score: 0.44400000000000006; Best params: {'linearsvc__C': 0.015625}\n",
      "\n"
     ]
    },
    {
     "name": "stderr",
     "output_type": "stream",
     "text": [
      "/Users/piotr/miniconda3/envs/arl@vgg/lib/python3.8/site-packages/sklearn/svm/_base.py:1206: ConvergenceWarning: Liblinear failed to converge, increase the number of iterations.\n",
      "  warnings.warn(\n",
      "/Users/piotr/miniconda3/envs/arl@vgg/lib/python3.8/site-packages/sklearn/svm/_base.py:1206: ConvergenceWarning: Liblinear failed to converge, increase the number of iterations.\n",
      "  warnings.warn(\n",
      "/Users/piotr/miniconda3/envs/arl@vgg/lib/python3.8/site-packages/sklearn/svm/_base.py:1206: ConvergenceWarning: Liblinear failed to converge, increase the number of iterations.\n",
      "  warnings.warn(\n",
      "/Users/piotr/miniconda3/envs/arl@vgg/lib/python3.8/site-packages/sklearn/svm/_base.py:1206: ConvergenceWarning: Liblinear failed to converge, increase the number of iterations.\n",
      "  warnings.warn(\n",
      "/Users/piotr/miniconda3/envs/arl@vgg/lib/python3.8/site-packages/sklearn/svm/_base.py:1206: ConvergenceWarning: Liblinear failed to converge, increase the number of iterations.\n",
      "  warnings.warn(\n"
     ]
    },
    {
     "name": "stdout",
     "output_type": "stream",
     "text": [
      "Encoder: ../out/48x48_resnet_4_small_with_maxpool/T15-00-33:+experiment=20k_updates_in_2k_steps_lookatobjs/s42/checkpoints/encoder_0/checkpoint.pkl\n",
      " Best score: 0.514; Best params: {'linearsvc__C': 0.0625}\n",
      "\n"
     ]
    }
   ],
   "source": [
    "for root, dirs, _ in os.walk(EXP_DIR):\n",
    "    if \"encoder_0\" not in dirs:\n",
    "        continue\n",
    "    \n",
    "    for encoder_ckpt in [osp.join(root, dirname, \"checkpoint.pkl\")\n",
    "                         for dirname in dirs\n",
    "                         if \"encoder_\" in dirname]:\n",
    "        encoder, _, _ = th.load(encoder_ckpt, map_location=\"cpu\")\n",
    "        \n",
    "        with th.no_grad():\n",
    "            train_data = encoder(train_frames).numpy()\n",
    "            \n",
    "        clf = make_pipeline(StandardScaler(), LinearSVC())\n",
    "        \n",
    "        gscv = GridSearchCV(clf, param_grid={'linearsvc__C': [2**-7, 2**-6, 2**-5, 2**-4, 2**-3]})\n",
    "        gscv.fit(train_data, train_labels)\n",
    "        \n",
    "        print(f\"Encoder: {encoder_ckpt}\\n Best score: {gscv.best_score_}; Best params: {gscv.best_params_}\\n\")"
   ]
  },
  {
   "cell_type": "markdown",
   "id": "8f671d5b",
   "metadata": {},
   "source": [
    "# ResNet9\n",
    "- 56% 0.03125\n",
    "- 53% 0.03125\n",
    "- 54% 0.03125\n",
    "- 49% 0.03125\n",
    "- 53% 0.03125\n",
    "- 57% 0.0625\n",
    "- 48% 0.03125\n",
    "- 59% 0.03125\n",
    "\n",
    "# ResNet9 with smaller conv1 kernel"
   ]
  }
 ],
 "metadata": {
  "kernelspec": {
   "display_name": "Python 3 (ipykernel)",
   "language": "python",
   "name": "python3"
  },
  "language_info": {
   "codemirror_mode": {
    "name": "ipython",
    "version": 3
   },
   "file_extension": ".py",
   "mimetype": "text/x-python",
   "name": "python",
   "nbconvert_exporter": "python",
   "pygments_lexer": "ipython3",
   "version": "3.8.13"
  }
 },
 "nbformat": 4,
 "nbformat_minor": 5
}
